{
 "cells": [
  {
   "cell_type": "code",
   "execution_count": 341,
   "id": "85af2d42",
   "metadata": {},
   "outputs": [],
   "source": [
    "import numpy as np\n",
    "import pandas as pd\n",
    "import re\n",
    "import networkx as nx\n",
    "from collections import defaultdict\n",
    "import warnings\n",
    "from itertools import islice\n",
    "import matplotlib.pyplot as plt\n",
    "import seaborn as sns\n",
    "warnings.filterwarnings(\"ignore\")"
   ]
  },
  {
   "cell_type": "code",
   "execution_count": 2,
   "id": "8516c36e",
   "metadata": {},
   "outputs": [],
   "source": [
    "nodes = pd.read_csv(r'C:\\Users\\ludom\\OneDrive\\Desktop\\ADM\\HOMEWORKS\\HW_5\\data\\nodes.csv')\n",
    "edges = pd.read_csv(r'C:\\Users\\ludom\\OneDrive\\Desktop\\ADM\\HOMEWORKS\\HW_5\\data\\edges.csv\\edges.csv')\n",
    "hero_net = pd.read_csv(r'C:\\Users\\ludom\\OneDrive\\Desktop\\ADM\\HOMEWORKS\\HW_5\\data\\hero-network.csv\\hero-network.csv')"
   ]
  },
  {
   "cell_type": "markdown",
   "id": "0ab641c5",
   "metadata": {},
   "source": [
    "# Data Preprocessing\n",
    "1. Some of the heroes' names in 'hero-network.csv' are not found in 'edges.csv'. This inconsistency exists for the following reasons:\n",
    "- Some heroes' names in 'hero-netowrk.csv' have extra spaces at the end of their names compared to their names in 'edges.csv'.\n",
    "- Some heroes' names in 'hero-netowrk.csv' have an extra '/' at the end of their names compared to their names in 'edges.csv'.\n",
    "- The hero name 'SPIDER-MAN/PETER PARKER' in 'edges.csv' has been changed to 'SPIDER-MAN/PETER PAR' in 'hero-network.csv' due to a string length limit in 'hero-network.csv'.\n",
    "\n",
    "2. Some entries in the 'hero-network.csv' have the same hero in both columns. In the graph, these entries form a self-loop. Because a self-loop makes no sense in this network, you can safely remove those from the dataset."
   ]
  },
  {
   "cell_type": "code",
   "execution_count": 3,
   "id": "b2c92cce",
   "metadata": {},
   "outputs": [],
   "source": [
    "# We define a function that removes excess spaces and the character '/' at the end of the heroes' name.\n",
    "\n",
    "def remove_extra_spaces_and_slashes(string):\n",
    "    # Remove extra spaces at the end of the string\n",
    "    string = re.sub(r'\\s+$', '', string)\n",
    "\n",
    "    # Remove an extra forward slash at the end of the string, if present\n",
    "    string = re.sub(r'\\/+$', '', string)\n",
    "\n",
    "    return string"
   ]
  },
  {
   "cell_type": "code",
   "execution_count": 4,
   "id": "b6af0b40",
   "metadata": {},
   "outputs": [],
   "source": [
    "# remove extra spaces and '/' at the end of the heroes' names\n",
    "# apply the function above to the two columns \n",
    "hero_net['hero1'] = hero_net['hero1'].apply(lambda row: remove_extra_spaces_and_slashes(row))\n",
    "\n",
    "hero_net['hero2'] = hero_net['hero2'].apply(lambda row: remove_extra_spaces_and_slashes(row))"
   ]
  },
  {
   "cell_type": "code",
   "execution_count": 5,
   "id": "f8886074",
   "metadata": {},
   "outputs": [],
   "source": [
    "# We replace the wrong name with the correct name in the already cleaned columns.\n",
    "hero_net['hero1'] = hero_net['hero1'].replace('SPIDER-MAN/PETER PAR', 'SPIDER-MAN/PETER PARKER')\n",
    "hero_net['hero2'] = hero_net['hero2'].replace('SPIDER-MAN/PETER PAR', 'SPIDER-MAN/PETER PARKER')"
   ]
  },
  {
   "cell_type": "code",
   "execution_count": 6,
   "id": "55ae77cd",
   "metadata": {},
   "outputs": [
    {
     "data": {
      "text/plain": [
       "2232"
      ]
     },
     "execution_count": 6,
     "metadata": {},
     "output_type": "execute_result"
    }
   ],
   "source": [
    "# indices of the rows that have the same hero name in both columns\n",
    "idx = hero_net[hero_net['hero1'] == hero_net['hero2']].index\n",
    "len(idx)"
   ]
  },
  {
   "cell_type": "code",
   "execution_count": 7,
   "id": "135e9e5f",
   "metadata": {},
   "outputs": [
    {
     "data": {
      "text/plain": [
       "(574467, 2)"
      ]
     },
     "execution_count": 7,
     "metadata": {},
     "output_type": "execute_result"
    }
   ],
   "source": [
    "# before removing those rows\n",
    "hero_net.shape"
   ]
  },
  {
   "cell_type": "code",
   "execution_count": 8,
   "id": "22e68958",
   "metadata": {},
   "outputs": [],
   "source": [
    "# remove those rows that have the same hero name in both columns\n",
    "hero_net = hero_net.drop(idx)"
   ]
  },
  {
   "cell_type": "code",
   "execution_count": 9,
   "id": "0b0e0936",
   "metadata": {},
   "outputs": [
    {
     "data": {
      "text/plain": [
       "(572235, 2)"
      ]
     },
     "execution_count": 9,
     "metadata": {},
     "output_type": "execute_result"
    }
   ],
   "source": [
    "# after removing those rows\n",
    "hero_net.shape"
   ]
  },
  {
   "cell_type": "markdown",
   "id": "3da8f16d",
   "metadata": {},
   "source": [
    "We have removed 2232 observations."
   ]
  },
  {
   "cell_type": "markdown",
   "id": "c2359bd8",
   "metadata": {},
   "source": [
    "# Graphs setup\n",
    "For this homework, we are going to build two different graphs:\n",
    "\n",
    "1. First graph: Will be constructed using the data stored in the 'hero-network.csv' file, in which an edge between two heroes can be found if they have appeared in the same comic together. The number of edges between two heroes represents the number of times they have collaborated in different comics. The graph should be considered weighted and undirected. It is up to you to decide which metric to use to calculate the weights, but we anticipate that the cost will be lower for heroes with more collaborations. Please specify which metric you used to select the weights in the report.\n",
    "\n",
    "2. Second graph: The data in 'nodes.csv' and 'edges.csv' will be used to construct the second graph. The type of node (hero/comic) can be found in 'nodes.csv', and an edge between a hero node and a comic node can be found in 'edges.csv' when the hero has appeared in that specific comic. This graph is assumed to be undirected and unweighted."
   ]
  },
  {
   "cell_type": "markdown",
   "id": "0d2cca4f",
   "metadata": {},
   "source": [
    "#### 1st Graph"
   ]
  },
  {
   "cell_type": "code",
   "execution_count": 10,
   "id": "597300cc",
   "metadata": {},
   "outputs": [],
   "source": [
    "# function that creates a graph of type 1\n",
    "\n",
    "def graph1(dataset):\n",
    "    # Initialize a dictionary to store the counts of each superhero pair\n",
    "    hero_pair_counts = defaultdict(int)\n",
    "\n",
    "    # Iterate over the rows in the dataset\n",
    "    for index, row in dataset.iterrows():\n",
    "      # Get the values of the hero1 and hero2 columns\n",
    "        hero1 = row['hero1']\n",
    "        hero2 = row['hero2']\n",
    "\n",
    "        pair = tuple(sorted([hero1, hero2]))\n",
    "        hero_pair_counts[pair] += 1\n",
    "    \n",
    "    # initialize the graph\n",
    "    G_hero_net = nx.Graph()\n",
    "    \n",
    "    # loop over the dataset and add the nodes & edges with the corresponding weight\n",
    "    for k,v in hero_pair_counts.items():\n",
    "        G_hero_net.add_edge(k[0],k[1], weight= 1/v)\n",
    "    \n",
    "    return G_hero_net"
   ]
  },
  {
   "cell_type": "code",
   "execution_count": 11,
   "id": "6690d91c",
   "metadata": {},
   "outputs": [],
   "source": [
    "G1 = graph1(hero_net)"
   ]
  },
  {
   "cell_type": "code",
   "execution_count": 12,
   "id": "e8107cbd",
   "metadata": {},
   "outputs": [
    {
     "data": {
      "text/plain": [
       "'Graph with 6421 nodes and 167100 edges'"
      ]
     },
     "execution_count": 12,
     "metadata": {},
     "output_type": "execute_result"
    }
   ],
   "source": [
    "nx.info(G1)"
   ]
  },
  {
   "cell_type": "markdown",
   "id": "da283697",
   "metadata": {},
   "source": [
    "#### 2nd graph"
   ]
  },
  {
   "cell_type": "code",
   "execution_count": 13,
   "id": "7850832b",
   "metadata": {},
   "outputs": [],
   "source": [
    "# function that creates a graph of type 2\n",
    "\n",
    "def graph2(df_edges,df_nodes):\n",
    "    # initialize the graph\n",
    "    G2 = nx.MultiGraph()\n",
    "    # add all nodes to the graph from the dataset\n",
    "    for i in range(df_nodes.shape[0]):\n",
    "        G2.add_node(df_nodes['node'].loc[i])\n",
    "        G2.nodes()[df_nodes['node'].loc[i]]['type'] = df_nodes['type'].loc[i]\n",
    "        \n",
    "    # add all edges to the graph from the dataset\n",
    "    df_edges.apply(lambda row: G2.add_edge(row['hero'], row['comic']), axis=1)\n",
    "    \n",
    "    return G2"
   ]
  },
  {
   "cell_type": "code",
   "execution_count": 14,
   "id": "dc8a8edf",
   "metadata": {
    "scrolled": true
   },
   "outputs": [],
   "source": [
    "G2 = graph2(edges,nodes)"
   ]
  },
  {
   "cell_type": "code",
   "execution_count": 15,
   "id": "ab8b6247",
   "metadata": {},
   "outputs": [
    {
     "data": {
      "text/plain": [
       "'MultiGraph with 19091 nodes and 96104 edges'"
      ]
     },
     "execution_count": 15,
     "metadata": {},
     "output_type": "execute_result"
    }
   ],
   "source": [
    "nx.info(G2)"
   ]
  },
  {
   "cell_type": "markdown",
   "id": "9facde16",
   "metadata": {},
   "source": [
    "# 2. Backend Implementation\n",
    "The goal of this part is the implementation of a controller system that has different functionalities. The controller should take as input an identifier \"i\" and run the associated function_i applied to the graph you create from the downloaded data.\n",
    "\n",
    "Definition: As the number of nodes and edges grows, we may request to work on a subset of the data to reduce computation time and improve network visualization. In this case, we will ask you only to consider the data for top N heros. We define the top N heroes as follows:\n",
    "\n",
    "Top N heroes: The top N heroes who have appeared in the most number of comics. The 'edges.csv' file, which represents the comics in which each hero has appeared, can be used to filter these N heroes.\n",
    "\n",
    "Note: When the value of N is not set by the user, the function should consider the whole data."
   ]
  },
  {
   "cell_type": "code",
   "execution_count": 16,
   "id": "8a993506",
   "metadata": {},
   "outputs": [],
   "source": [
    "# Top N heroes\n",
    "def top_N_heroes(dataset, N = None):\n",
    "    if N == None:\n",
    "        N = len(dataset)\n",
    "    \n",
    "    # group the dataset by 'hero' and count the number of comics where each hero has appeared\n",
    "    df_grouped = dataset.groupby('hero').agg(count = ('comic','count')).reset_index()\n",
    "    df_grouped = df_grouped.sort_values(by='count', ascending=False)\n",
    "    \n",
    "    # take the top N heroes based on number of comics they've appeared in\n",
    "    top_N = df_grouped[:N]\n",
    "    \n",
    "    # names of top N heroes\n",
    "    names_topN = top_N['hero']\n",
    "    \n",
    "    return list(names_topN)"
   ]
  },
  {
   "cell_type": "code",
   "execution_count": 17,
   "id": "b2ed8a2f",
   "metadata": {},
   "outputs": [
    {
     "data": {
      "text/plain": [
       "['SPIDER-MAN/PETER PARKER',\n",
       " 'CAPTAIN AMERICA',\n",
       " 'IRON MAN/TONY STARK',\n",
       " 'THING/BENJAMIN J. GR',\n",
       " 'THOR/DR. DONALD BLAK']"
      ]
     },
     "execution_count": 17,
     "metadata": {},
     "output_type": "execute_result"
    }
   ],
   "source": [
    "top_N_heroes(edges,N=5)"
   ]
  },
  {
   "cell_type": "markdown",
   "id": "41023087",
   "metadata": {},
   "source": [
    "# Functionality 1 - extract the graph's features\n",
    "Input:\n",
    "- The graph data\n",
    "- The graph type (ex., number 1 or number 2)\n",
    "- N: denoting the top N heroes that their data should be considered\n",
    "\n",
    "Output:\n",
    "- The number of nodes in the network (if type 2, report for both node types)\n",
    "- The number of collaborations of each superhero with the others (only if type 1)\n",
    "- The number of heroes that have appeared in each comic (only if type 2)\n",
    "- The network's density\n",
    "- The network's degree distribution\n",
    "- The average degree of the network\n",
    "- The network's Hubs (hubs are nodes having degrees more extensive than the 95th percentile of the degree distribution)\n",
    "- Whether the Network is sparse or dense\n",
    "\n",
    "\n",
    "Note: For this case, it makes sense to differentiate operations between the two graphs: for example, when computing hubs for the second graph, we likely care only about comics."
   ]
  },
  {
   "cell_type": "code",
   "execution_count": 243,
   "id": "2900e18c",
   "metadata": {},
   "outputs": [],
   "source": [
    "# Subgraph with some specific N\n",
    "def subgraph(graph,n=None):\n",
    "\n",
    "    # create an empty graph\n",
    "    G_small = nx.Graph()\n",
    "\n",
    "    # I choose the most important N heros based on the degree centrality measure:\n",
    "    \n",
    "    heros=top_N_heroes(edges,N=n)\n",
    "\n",
    "    # compute the subgraph based on the type of graph\n",
    "    if graph==G1:\n",
    "\n",
    "        if n==None:\n",
    "            return G1\n",
    "        else:\n",
    "\n",
    "            for i in G1.nodes():\n",
    "                if i in heros:\n",
    "                    G_small.add_node(i)\n",
    "\n",
    "            for edge in G1.edges():\n",
    "                if (edge[0] in heros) and (edge[1] in heros):\n",
    "                    w = list(G1.edges()[edge].values())[0]\n",
    "                    G_small.add_edge(edge[0],edge[1], weight = w)\n",
    "    \n",
    "    elif graph==G2:\n",
    "\n",
    "        if n==None:\n",
    "            return G2\n",
    "        else: \n",
    "                \n",
    "            comics = set(list(edges[edges['hero'].isin(heros)]['comic']))\n",
    "\n",
    "            for i in G2.nodes():\n",
    "                if (i in heros) or (i in comics):\n",
    "                    G_small.add_node(i)\n",
    "                    # add the original label to the node\n",
    "                    G_small.nodes()[i]['type'] = list(G2.nodes()[i].values())\n",
    "\n",
    "            for edge in G2.edges():\n",
    "                if ((edge[0] in heros) and (edge[1] in comics)) or ((edge[1] in heros) and (edge[0] in comics)):\n",
    "                    G_small.add_edge(edge[0],edge[1])\n",
    "    \n",
    "    else: \n",
    "        raise ValueError (\"The graph you chose is not valid\")\n",
    "    \n",
    "    return G_small"
   ]
  },
  {
   "cell_type": "code",
   "execution_count": 253,
   "id": "7e0099e7",
   "metadata": {},
   "outputs": [],
   "source": [
    "# Number of nodes for type 1 and for type 2\n",
    "def number_nodes(graph,g_type,N=None):\n",
    "    # g_type = 1 --> number of nodes\n",
    "    if g_type == 1:\n",
    "        if N==None:\n",
    "            return (f\"The graph has {graph.number_of_nodes()} nodes.\")\n",
    "        else:\n",
    "            g1=subgraph(graph,N)\n",
    "            return (f\"The graph has {g1.number_of_nodes()} nodes.\")\n",
    "        \n",
    "    # g_type = 2 --> number of nodes of type hero & number of nodes of type comic\n",
    "    else: \n",
    "        if N==None:\n",
    "            labels = nx.get_node_attributes(graph, 'type')\n",
    "            num_hero = list(labels.values()).count('hero')\n",
    "            num_comic = list(labels.values()).count('comic')\n",
    "            return (f\"The graph has {num_hero} nodes of type 'hero' and {num_comic} nodes of type 'comic'.\")\n",
    "        else:\n",
    "            g=subgraph(graph,N)\n",
    "            sub_comic=0\n",
    "            for i in g.nodes():\n",
    "                if g.nodes()[i]['type']==['comic']:\n",
    "                    sub_comic+=1\n",
    "            tot=g.number_of_nodes()\n",
    "            sub_heroes=tot-sub_comic\n",
    "            return (f\"The graph has {sub_heroes} nodes of type 'hero' and {sub_comic} nodes of type 'comic'.\")\n"
   ]
  },
  {
   "cell_type": "code",
   "execution_count": 77,
   "id": "142b24c1",
   "metadata": {},
   "outputs": [],
   "source": [
    "# Number of collaborations of each superhero with the others (only G1)\n",
    "def number_connections(graph,g_type):\n",
    "    if g_type==1:\n",
    "    # dictionary where we'll store the comics' names and the number of connections\n",
    "        num_connect_per_hero = {}\n",
    "        \n",
    "        # loop over all nodes (heroes) and sum the reciprocal of the edge weights (weight = 1 / number of edges)\n",
    "        for i in graph.nodes():\n",
    "            num_connections = 0\n",
    "            for k1,v1 in graph[i].items():\n",
    "                for k2,v2 in v1.items():\n",
    "                    num_connections += 1/v2\n",
    "            num_connect_per_hero[i] = int(num_connections)\n",
    "    \n",
    "        return num_connect_per_hero\n",
    "    \n",
    "    else:\n",
    "        raise ValueError(\"The graph you chose is not valid\")"
   ]
  },
  {
   "cell_type": "code",
   "execution_count": 264,
   "id": "0da3d1c6",
   "metadata": {},
   "outputs": [],
   "source": [
    "# Number of heroes per comic (only for G2)\n",
    "def heros_per_comic(graph, graph_type, N=None):\n",
    "\n",
    "    if graph_type == 2:\n",
    "\n",
    "        labels = nx.get_node_attributes(graph, 'type')\n",
    "\n",
    "        comic_d = {k: v for k, v in labels.items() if v != 'hero'}\n",
    "        \n",
    "        comic_heros_d = {}\n",
    "\n",
    "        for i in comic_d:\n",
    "            comic_heros_d[i] = graph.degree(i)\n",
    "            \n",
    "        # Sort the dictionary by its values\n",
    "        final_d = dict(sorted(comic_heros_d.items(), key=lambda item: item[1], reverse = True))\n",
    "        \n",
    "        # Returns the first N elements of the dictionary\n",
    "        return dict(islice(final_d.items(), N))\n",
    "    \n",
    "    else:\n",
    "        raise ValueError(\"The graph you chose is not valid\")"
   ]
  },
  {
   "cell_type": "code",
   "execution_count": 47,
   "id": "620c7736",
   "metadata": {},
   "outputs": [],
   "source": [
    "# Network's density\n",
    "def density(graph):\n",
    "    return round(nx.density(graph),5)"
   ]
  },
  {
   "cell_type": "code",
   "execution_count": 61,
   "id": "f265e643",
   "metadata": {},
   "outputs": [],
   "source": [
    "# Network's degree\n",
    "def distribution_degree(graph):\n",
    "    degrees = [graph.degree(n) for n in graph.nodes()]\n",
    "    d = defaultdict(int)\n",
    "\n",
    "    for elem in degrees:\n",
    "        d[elem] += 1\n",
    "    \n",
    "    D=sorted(d.items(), key=lambda x: x[0])\n",
    "    return dict(D)"
   ]
  },
  {
   "cell_type": "code",
   "execution_count": 64,
   "id": "1cde6a4f",
   "metadata": {},
   "outputs": [],
   "source": [
    "# Network's average degree\n",
    "def average_degree(graph):\n",
    "    return sum([d for (n, d) in nx.degree(graph)]) / graph.number_of_nodes()"
   ]
  },
  {
   "cell_type": "code",
   "execution_count": 65,
   "id": "3e4f2fa1",
   "metadata": {},
   "outputs": [],
   "source": [
    "# Network's hubs\n",
    "def network_hubs(graph, g_type):\n",
    "    if g_type == 1:\n",
    "        # dictionary key = node, value = degree of node (number of edges)\n",
    "        degree_distr = dict(nx.degree(graph))\n",
    "        \n",
    "        # quantile 95%\n",
    "        q95 = np.percentile(list(degree_distr.values()), 95)\n",
    "        \n",
    "        # loop over all elements of the dictionary above\n",
    "        hubs = {}\n",
    "        for k,v in degree_distr.items():\n",
    "            # if the node's degree > 95th quantile, keep it\n",
    "            if v >= q95:\n",
    "                hubs[k] = v\n",
    "    else:\n",
    "        # take only the 'comic' nodes\n",
    "        list_values = []\n",
    "        for i in G2.nodes():\n",
    "            if list(G2.nodes()[i].values()) == ['comic']:\n",
    "                list_values.append(len(G2[i]))\n",
    "\n",
    "        # quantile 95%\n",
    "        q95 = np.percentile(list_values, 95)\n",
    "\n",
    "        hubs = {}\n",
    "        for j in G2.nodes():\n",
    "            if list(G2.nodes()[j].values()) == ['comic']:\n",
    "                if len(G2[j]) >= q95:\n",
    "                    hubs[j] = len(G2[j])\n",
    "\n",
    "    return hubs"
   ]
  },
  {
   "cell_type": "code",
   "execution_count": 71,
   "id": "576e05dc",
   "metadata": {},
   "outputs": [],
   "source": [
    "# Network dense or sparse\n",
    "def dense_sparse(graph):\n",
    "    if nx.density(graph)>0.5:\n",
    "        return \"Dense\"\n",
    "    else:\n",
    "        return \"Sparse\"   "
   ]
  },
  {
   "cell_type": "code",
   "execution_count": 281,
   "id": "d376ffec",
   "metadata": {},
   "outputs": [],
   "source": [
    "# FUNCTIONALITY 1 --> EXTRACT G-FEATURES\n",
    "\n",
    "def Extract_G_Features(graph, g_type, N=None):\n",
    "    if (g_type != 1) & (g_type != 2):\n",
    "        return 'Wrong Graph Type'\n",
    "    else:\n",
    "\n",
    "        # extract the names of the top N heroes\n",
    "        names_heroes = top_N_heroes(edges,N=N)\n",
    "\n",
    "        # do the subgraph if N is specified\n",
    "        graph_new=subgraph(graph,N)\n",
    "\n",
    "        # number of nodes (depending on the g_type)\n",
    "        num_nodes=number_nodes(graph,g_type,N)\n",
    "\n",
    "        # graph density\n",
    "        g_density=density(graph_new)\n",
    "\n",
    "        # graph degree\n",
    "        g_degree= distribution_degree(graph_new)\n",
    "\n",
    "        # graph avg_degree\n",
    "        g_avg_degree=average_degree(graph_new)\n",
    "\n",
    "        # hubs\n",
    "        hubs=network_hubs(graph_new, g_type)\n",
    "\n",
    "        # dense or sparse\n",
    "        den_spar=dense_sparse(graph_new)\n",
    "\n",
    "        if g_type==1:\n",
    "            \n",
    "            # number of collab\n",
    "            num_collab=number_connections(graph_new,g_type)\n",
    "\n",
    "            return num_nodes, num_collab, g_density, g_degree, g_avg_degree, hubs, den_spar\n",
    "\n",
    "        else: \n",
    "            \n",
    "            # number of heroes per comic\n",
    "            h_per_c=heros_per_comic(graph_new, g_type, N)\n",
    "\n",
    "            return num_nodes, h_per_c, g_density, g_degree, g_avg_degree, hubs, den_spar"
   ]
  },
  {
   "cell_type": "code",
   "execution_count": 280,
   "id": "130bfae9",
   "metadata": {},
   "outputs": [
    {
     "data": {
      "text/plain": [
       "0.0008"
      ]
     },
     "execution_count": 280,
     "metadata": {},
     "output_type": "execute_result"
    }
   ],
   "source": [
    "density(subgraph(G2,2))"
   ]
  },
  {
   "cell_type": "code",
   "execution_count": 267,
   "id": "3a54e0de",
   "metadata": {},
   "outputs": [
    {
     "data": {
      "text/plain": [
       "('The graph has 10 nodes.',\n",
       " {'IRON MAN/TONY STARK': 1481,\n",
       "  'HULK/DR. ROBERT BRUC': 796,\n",
       "  'SPIDER-MAN/PETER PARKER': 981,\n",
       "  'CAPTAIN AMERICA': 1807,\n",
       "  'WOLVERINE/LOGAN': 520,\n",
       "  'MR. FANTASTIC/REED R': 2808,\n",
       "  'THING/BENJAMIN J. GR': 2844,\n",
       "  'INVISIBLE WOMAN/SUE': 2662,\n",
       "  'THOR/DR. DONALD BLAK': 1415,\n",
       "  'HUMAN TORCH/JOHNNY S': 2854},\n",
       " 1.0,\n",
       " {9: 10},\n",
       " 9.0,\n",
       " {'IRON MAN/TONY STARK': 9,\n",
       "  'HULK/DR. ROBERT BRUC': 9,\n",
       "  'SPIDER-MAN/PETER PARKER': 9,\n",
       "  'CAPTAIN AMERICA': 9,\n",
       "  'WOLVERINE/LOGAN': 9,\n",
       "  'MR. FANTASTIC/REED R': 9,\n",
       "  'THING/BENJAMIN J. GR': 9,\n",
       "  'INVISIBLE WOMAN/SUE': 9,\n",
       "  'THOR/DR. DONALD BLAK': 9,\n",
       "  'HUMAN TORCH/JOHNNY S': 9},\n",
       " 'Dense')"
      ]
     },
     "execution_count": 267,
     "metadata": {},
     "output_type": "execute_result"
    }
   ],
   "source": [
    "test1=Extract_G_Features(G1, 1,10)\n",
    "test1"
   ]
  },
  {
   "cell_type": "code",
   "execution_count": null,
   "id": "c763a5d6",
   "metadata": {},
   "outputs": [],
   "source": [
    "# Since this output is too long, as a matter of order we do not print it below but put the attached output as a txt file (output_func1_G2) in the github folder.\n",
    "test_two=Extract_G_Features(G2,2,3)\n",
    "test_two"
   ]
  },
  {
   "attachments": {},
   "cell_type": "markdown",
   "id": "70926334",
   "metadata": {},
   "source": [
    "# Visualization 1"
   ]
  },
  {
   "attachments": {},
   "cell_type": "markdown",
   "id": "80151eb3",
   "metadata": {},
   "source": [
    "V1: A table containing the following general information about the graph:\n",
    "\n",
    "- Number of nodes in the network\n",
    "- Density of the network\n",
    "- Average degree of the network\n",
    "- Whether the network is sparse or dense"
   ]
  },
  {
   "cell_type": "code",
   "execution_count": 289,
   "id": "59a60935",
   "metadata": {},
   "outputs": [],
   "source": [
    "def V1(graph,N=None):\n",
    "    \n",
    "    g_new=subgraph(graph,N)\n",
    "\n",
    "    dataframe = pd.DataFrame([{'number_of_nodes' : g_new.number_of_nodes(), \"density\" : nx.density(g_new),\n",
    "                  \"average_degree\" : average_degree(g_new), 'sparse_dense' : dense_sparse(g_new)}])\n",
    "    return dataframe.set_index(['number_of_nodes', \"density\", \"average_degree\", 'sparse_dense']) "
   ]
  },
  {
   "cell_type": "code",
   "execution_count": 290,
   "id": "076f939c",
   "metadata": {},
   "outputs": [
    {
     "data": {
      "text/html": [
       "<div>\n",
       "<style scoped>\n",
       "    .dataframe tbody tr th:only-of-type {\n",
       "        vertical-align: middle;\n",
       "    }\n",
       "\n",
       "    .dataframe tbody tr th {\n",
       "        vertical-align: top;\n",
       "    }\n",
       "\n",
       "    .dataframe thead th {\n",
       "        text-align: right;\n",
       "    }\n",
       "</style>\n",
       "<table border=\"1\" class=\"dataframe\">\n",
       "  <thead>\n",
       "    <tr style=\"text-align: right;\">\n",
       "      <th></th>\n",
       "      <th></th>\n",
       "      <th></th>\n",
       "      <th></th>\n",
       "    </tr>\n",
       "    <tr>\n",
       "      <th>number_of_nodes</th>\n",
       "      <th>density</th>\n",
       "      <th>average_degree</th>\n",
       "      <th>sparse_dense</th>\n",
       "    </tr>\n",
       "  </thead>\n",
       "  <tbody>\n",
       "    <tr>\n",
       "      <th>591</th>\n",
       "      <th>0.22393</th>\n",
       "      <th>132.118443</th>\n",
       "      <th>Sparse</th>\n",
       "    </tr>\n",
       "  </tbody>\n",
       "</table>\n",
       "</div>"
      ],
      "text/plain": [
       "Empty DataFrame\n",
       "Columns: []\n",
       "Index: [(591, 0.22392956494307265, 132.11844331641285, Sparse)]"
      ]
     },
     "execution_count": 290,
     "metadata": {},
     "output_type": "execute_result"
    }
   ],
   "source": [
    "Viz_1_1=V1(G1,600)\n",
    "Viz_1_1"
   ]
  },
  {
   "cell_type": "code",
   "execution_count": 291,
   "id": "7b27b658",
   "metadata": {},
   "outputs": [
    {
     "data": {
      "text/html": [
       "<div>\n",
       "<style scoped>\n",
       "    .dataframe tbody tr th:only-of-type {\n",
       "        vertical-align: middle;\n",
       "    }\n",
       "\n",
       "    .dataframe tbody tr th {\n",
       "        vertical-align: top;\n",
       "    }\n",
       "\n",
       "    .dataframe thead th {\n",
       "        text-align: right;\n",
       "    }\n",
       "</style>\n",
       "<table border=\"1\" class=\"dataframe\">\n",
       "  <thead>\n",
       "    <tr style=\"text-align: right;\">\n",
       "      <th></th>\n",
       "      <th></th>\n",
       "      <th></th>\n",
       "      <th></th>\n",
       "    </tr>\n",
       "    <tr>\n",
       "      <th>number_of_nodes</th>\n",
       "      <th>density</th>\n",
       "      <th>average_degree</th>\n",
       "      <th>sparse_dense</th>\n",
       "    </tr>\n",
       "  </thead>\n",
       "  <tbody>\n",
       "    <tr>\n",
       "      <th>13060</th>\n",
       "      <th>0.00085</th>\n",
       "      <th>11.101378</th>\n",
       "      <th>Sparse</th>\n",
       "    </tr>\n",
       "  </tbody>\n",
       "</table>\n",
       "</div>"
      ],
      "text/plain": [
       "Empty DataFrame\n",
       "Columns: []\n",
       "Index: [(13060, 0.0008500940542316665, 11.101378254211332, Sparse)]"
      ]
     },
     "execution_count": 291,
     "metadata": {},
     "output_type": "execute_result"
    }
   ],
   "source": [
    "Viz_1_2=V1(G2,800)\n",
    "Viz_1_2"
   ]
  },
  {
   "attachments": {},
   "cell_type": "markdown",
   "id": "028a557f",
   "metadata": {},
   "source": [
    "V2: A table that lists the network's hubs"
   ]
  },
  {
   "cell_type": "code",
   "execution_count": 294,
   "id": "02185bd2",
   "metadata": {},
   "outputs": [],
   "source": [
    "def V2(graph,g_type,N=None):\n",
    "    \n",
    "    g_new=subgraph(graph,N)\n",
    "\n",
    "    df=pd.DataFrame(network_hubs(g_new,g_type).items(), columns=['hero/comic', 'hubs'])\n",
    "\n",
    "    return df.set_index(['hero/comic', 'hubs'])"
   ]
  },
  {
   "cell_type": "code",
   "execution_count": 298,
   "id": "a8091b0a",
   "metadata": {},
   "outputs": [
    {
     "data": {
      "text/html": [
       "<div>\n",
       "<style scoped>\n",
       "    .dataframe tbody tr th:only-of-type {\n",
       "        vertical-align: middle;\n",
       "    }\n",
       "\n",
       "    .dataframe tbody tr th {\n",
       "        vertical-align: top;\n",
       "    }\n",
       "\n",
       "    .dataframe thead th {\n",
       "        text-align: right;\n",
       "    }\n",
       "</style>\n",
       "<table border=\"1\" class=\"dataframe\">\n",
       "  <thead>\n",
       "    <tr style=\"text-align: right;\">\n",
       "      <th></th>\n",
       "      <th></th>\n",
       "    </tr>\n",
       "    <tr>\n",
       "      <th>hero/comic</th>\n",
       "      <th>hubs</th>\n",
       "    </tr>\n",
       "  </thead>\n",
       "  <tbody>\n",
       "    <tr>\n",
       "      <th>BLACK PANTHER/T'CHAL</th>\n",
       "      <th>711</th>\n",
       "    </tr>\n",
       "    <tr>\n",
       "      <th>IRON MAN/TONY STARK</th>\n",
       "      <th>1521</th>\n",
       "    </tr>\n",
       "    <tr>\n",
       "      <th>IRON MAN IV/JAMES R.</th>\n",
       "      <th>465</th>\n",
       "    </tr>\n",
       "    <tr>\n",
       "      <th>ROM, SPACEKNIGHT</th>\n",
       "      <th>241</th>\n",
       "    </tr>\n",
       "    <tr>\n",
       "      <th>BLOB/FRED J. DUKES</th>\n",
       "      <th>423</th>\n",
       "    </tr>\n",
       "  </tbody>\n",
       "</table>\n",
       "</div>"
      ],
      "text/plain": [
       "Empty DataFrame\n",
       "Columns: []\n",
       "Index: [(BLACK PANTHER/T'CHAL, 711), (IRON MAN/TONY STARK, 1521), (IRON MAN IV/JAMES R., 465), (ROM, SPACEKNIGHT, 241), (BLOB/FRED J. DUKES, 423)]"
      ]
     },
     "execution_count": 298,
     "metadata": {},
     "output_type": "execute_result"
    }
   ],
   "source": [
    "Viz_2_1=V2(G1,1)\n",
    "Viz_2_1.head()"
   ]
  },
  {
   "cell_type": "code",
   "execution_count": 300,
   "id": "61ab4dad",
   "metadata": {},
   "outputs": [
    {
     "data": {
      "text/html": [
       "<div>\n",
       "<style scoped>\n",
       "    .dataframe tbody tr th:only-of-type {\n",
       "        vertical-align: middle;\n",
       "    }\n",
       "\n",
       "    .dataframe tbody tr th {\n",
       "        vertical-align: top;\n",
       "    }\n",
       "\n",
       "    .dataframe thead th {\n",
       "        text-align: right;\n",
       "    }\n",
       "</style>\n",
       "<table border=\"1\" class=\"dataframe\">\n",
       "  <thead>\n",
       "    <tr style=\"text-align: right;\">\n",
       "      <th></th>\n",
       "      <th></th>\n",
       "    </tr>\n",
       "    <tr>\n",
       "      <th>hero/comic</th>\n",
       "      <th>hubs</th>\n",
       "    </tr>\n",
       "  </thead>\n",
       "  <tbody>\n",
       "    <tr>\n",
       "      <th>A '00</th>\n",
       "      <th>23</th>\n",
       "    </tr>\n",
       "    <tr>\n",
       "      <th>A 100</th>\n",
       "      <th>20</th>\n",
       "    </tr>\n",
       "    <tr>\n",
       "      <th>A 105</th>\n",
       "      <th>21</th>\n",
       "    </tr>\n",
       "    <tr>\n",
       "      <th>A 10</th>\n",
       "      <th>35</th>\n",
       "    </tr>\n",
       "    <tr>\n",
       "      <th>A 116</th>\n",
       "      <th>19</th>\n",
       "    </tr>\n",
       "  </tbody>\n",
       "</table>\n",
       "</div>"
      ],
      "text/plain": [
       "Empty DataFrame\n",
       "Columns: []\n",
       "Index: [(A '00, 23), (A 100, 20), (A 105, 21), (A 10, 35), (A 116, 19)]"
      ]
     },
     "execution_count": 300,
     "metadata": {},
     "output_type": "execute_result"
    }
   ],
   "source": [
    "Viz_2_2=V2(G2,2)\n",
    "Viz_2_2.head()"
   ]
  },
  {
   "attachments": {},
   "cell_type": "markdown",
   "id": "0b6e93df",
   "metadata": {},
   "source": [
    "V3: A plot depicting the number of collaborations of each hero in descending order (if the graph is type 1)"
   ]
  },
  {
   "cell_type": "code",
   "execution_count": 345,
   "id": "173b422f",
   "metadata": {},
   "outputs": [
    {
     "data": {
      "image/png": "[encoded data removed]",
      "text/plain": [
       "<Figure size 2080x560 with 1 Axes>"
      ]
     },
     "metadata": {
      "needs_background": "light"
     },
     "output_type": "display_data"
    }
   ],
   "source": [
    "plt.figure(figsize=(26, 7), dpi=80)\n",
    "\n",
    "sorted_heros = sorted(number_connections(subgraph(G1,10),1).items(), key=lambda x: x[1], reverse = True)\n",
    "\n",
    "height = [i[1] for i in sorted_heros]\n",
    "bars = [i[0] for i in sorted_heros]\n",
    "x_axis = np.arange(len(bars))\n",
    "\n",
    "plt.bar(x_axis, height, color=\"purple\")\n",
    "\n",
    "plt.xticks(x_axis, bars)\n",
    "\n",
    "plt.xlabel('Heroes')\n",
    "plt.ylabel('Number of collaborations ')\n",
    "plt.title('Number of collaborations for the first ten heroes')\n",
    "\n",
    "plt.show()"
   ]
  },
  {
   "attachments": {},
   "cell_type": "markdown",
   "id": "8e9c1baa",
   "metadata": {},
   "source": [
    "V4: A plot depicting the number of heroes who appeared in each comic, sorted in descending order (if the graph is type 2)"
   ]
  },
  {
   "cell_type": "code",
   "execution_count": 344,
   "id": "d4837c16",
   "metadata": {},
   "outputs": [
    {
     "data": {
      "image/png": "[encoded data removed]",
      "text/plain": [
       "<Figure size 2080x560 with 1 Axes>"
      ]
     },
     "metadata": {
      "needs_background": "light"
     },
     "output_type": "display_data"
    }
   ],
   "source": [
    "\n",
    "plt.figure(figsize=(26, 7), dpi=80)\n",
    "\n",
    "sorted_comics = sorted(heros_per_comic(G2, 2,20).items(), key=lambda x: x[1], reverse = True)\n",
    "\n",
    "height = [t[1] for t in sorted_comics]\n",
    "bars = [t[0] for t in sorted_comics]\n",
    "y_pos = np.arange(len(bars))\n",
    "\n",
    "plt.bar(y_pos, height, color=\"coral\")\n",
    "\n",
    "plt.xticks(y_pos, bars)\n",
    "\n",
    "\n",
    "plt.xlabel('Comics')\n",
    "plt.ylabel('Number of heroes')\n",
    "plt.title('Number of heroes in the first 20 comics')\n",
    "\n",
    "plt.show()"
   ]
  },
  {
   "attachments": {},
   "cell_type": "markdown",
   "id": "cacf3043",
   "metadata": {},
   "source": [
    "V5: A plot depicting the degree distribution of the network"
   ]
  },
  {
   "cell_type": "code",
   "execution_count": 338,
   "id": "e7280085",
   "metadata": {},
   "outputs": [],
   "source": [
    "values = distribution_degree(G2).values()"
   ]
  },
  {
   "cell_type": "code",
   "execution_count": 342,
   "id": "d53a1d73",
   "metadata": {},
   "outputs": [
    {
     "data": {
      "image/png": "[encoded data removed]",
      "text/plain": [
       "<Figure size 2080x560 with 1 Axes>"
      ]
     },
     "metadata": {
      "needs_background": "light"
     },
     "output_type": "display_data"
    }
   ],
   "source": [
    "plt.figure(figsize=(26, 7), dpi=80)\n",
    "# Plot the density graph\n",
    "sns.histplot(values,log_scale=True)\n",
    "plt.xlabel('Value')\n",
    "plt.ylabel('Degree')\n",
    "plt.title('Degree distribution of the network')\n",
    "plt.show()"
   ]
  },
  {
   "attachments": {},
   "cell_type": "markdown",
   "id": "9ff523dd",
   "metadata": {},
   "source": [
    "# Functionality 2 - Find top superheroes!\n",
    "\n",
    "NB: I've only write the code: check if it's correct (for me it seems so) and then we have to comment it.\n",
    "\n",
    "Input:\n",
    "- The graph data\n",
    "- A node (hero or comic)\n",
    "- One of the given metrics : Betweeness 1, PageRank, ClosenessCentrality 3, DegreeCentrality\n",
    "- N: denoting the top N heroes that their data should be considered\n",
    "\n",
    "Output:\n",
    "- The metric's value over the considered graph\n",
    "- The given node's value"
   ]
  },
  {
   "attachments": {},
   "cell_type": "markdown",
   "id": "0a8e8e55",
   "metadata": {},
   "source": [
    "We start by explain the four metrics:\n",
    "\n",
    "- Betweenness centrality: This metric measures how many times a node acts as a bridge along the shortest path between two other nodes. A node with high betweenness centrality has a large influence on the communication between other nodes in the graph. If a node has a high betweenness centrality, it means that it is likely to be a bottleneck or a gatekeeper in the communication between other nodes, as information needs to pass through it.\n",
    "\n",
    "- PageRank: This is a measure of the importance of a node in a graph. It was developed by Google to rank web pages in their search engine. In a graph, a node with a high PageRank value is considered to be important. This can be because it has many connections to other nodes, or because it is connected to nodes that are themselves important.\n",
    "\n",
    "- Closeness centrality: This metric measures how close a node is to all other nodes in the graph. A node with high closeness centrality has a short average distance to all other nodes. This means that it is well-connected and can reach other nodes quickly.\n",
    "\n",
    "- Degree centrality: This measures the number of connections a node has to other nodes. A node with a high degree centrality has many connections and is well-connected in the graph.\n",
    "\n",
    "Now, let's consider the scenario where a node has a high betweenness centrality but a low PageRank value. This could mean that the node is important in terms of acting as a bridge between other nodes, but it is not necessarily a \"central\" node in terms of the overall structure of the graph. On the other hand, if a node has a low betweenness centrality but a high PageRank value, it could mean that it is not a key connector between other nodes, but it is still considered an important node in the graph due to its connections to other important nodes."
   ]
  },
  {
   "cell_type": "code",
   "execution_count": 358,
   "id": "f6a123a5",
   "metadata": {},
   "outputs": [],
   "source": [
    "def get_metric_value(graph, node, metric, N):\n",
    "\n",
    "    # check if the node is in the graph \n",
    "    if node in graph.nodes():\n",
    "        \n",
    "        # check the N in input is valid\n",
    "        if N>0: \n",
    "            \n",
    "            # make the subgraph\n",
    "            graph_new=subgraph(graph,N) \n",
    "            heroes=top_N_heroes(edges,N)               \n",
    "\n",
    "            # calculate the metric's value + the respective value of the node\n",
    "            if metric == \"Betweeness\":\n",
    "                # calculate betweenness centrality\n",
    "                metric_value = nx.betweenness_centrality(graph_new)\n",
    "            elif metric == \"PageRank\":\n",
    "                # calculate PageRank\n",
    "                metric_value = nx.pagerank(graph_new)\n",
    "            elif metric == \"ClosenessCentrality\":\n",
    "                # calculate closeness centrality\n",
    "                metric_value = nx.closeness_centrality(graph_new)\n",
    "            elif metric == \"DegreeCentrality\":\n",
    "                # calculate degree centrality\n",
    "                metric_value = nx.degree_centrality(graph_new)\n",
    "            else:\n",
    "                raise ValueError(\"Invalid metric\")\n",
    "            \n",
    "            # sort the metric values in descending order\n",
    "            #sorted_metric = sorted(metric_value.items(), key=lambda x: x[1], reverse=True)\n",
    "\n",
    "            mean_centrality = np.array(list(metric_value.values())).mean()\n",
    "\n",
    "            if graph==G1:\n",
    "                return metric_value,metric_value[node],mean_centrality\n",
    "            else:\n",
    "                for n in graph_new.nodes():\n",
    "                    if n in heroes:\n",
    "                        print(n,metric_value[n])\n",
    "\n",
    "                return metric_value[node],mean_centrality\n",
    "            \n",
    "                \n",
    "        else: \n",
    "            raise ValueError(\"N must be a positive integer\")\n",
    "\n",
    "    else: \n",
    "        raise ValueError (\"The node you choose is not in the considered graph \")\n",
    "    "
   ]
  },
  {
   "cell_type": "code",
   "execution_count": null,
   "id": "a53383e6",
   "metadata": {},
   "outputs": [],
   "source": [
    "# Since this output is too long, as a matter of order we do not print it below but put the attached output as a txt file (output_funct2_G1) in the github folder.\n",
    "test_one=get_metric_value(G1,'SPIDER-MAN/PETER PARKER',\"DegreeCentrality\",100)\n",
    "test_one"
   ]
  },
  {
   "cell_type": "code",
   "execution_count": 359,
   "id": "f694322e",
   "metadata": {},
   "outputs": [
    {
     "name": "stdout",
     "output_type": "stream",
     "text": [
      "CAPTAIN AMERICA 0.3909143705233271\n",
      "HULK/DR. ROBERT BRUC 0.3672628069111852\n",
      "HUMAN TORCH/JOHNNY S 0.3695479777954005\n",
      "INVISIBLE WOMAN/SUE 0.3640406225587405\n",
      "IRON MAN/TONY STARK 0.3818468326504885\n",
      "MR. FANTASTIC/REED R 0.3681108342954366\n",
      "THING/BENJAMIN J. GR 0.3730525278650163\n",
      "THOR/DR. DONALD BLAK 0.3727311880883529\n",
      "WOLVERINE/LOGAN 0.36655170327343134\n",
      "SPIDER-MAN/PETER PARKER 0.40357071480914\n"
     ]
    },
    {
     "data": {
      "text/plain": [
       "(0.40357071480914, 0.2856004038688739)"
      ]
     },
     "execution_count": 359,
     "metadata": {},
     "output_type": "execute_result"
    }
   ],
   "source": [
    "test_two=test_two=get_metric_value(G2,'SPIDER-MAN/PETER PARKER',\"ClosenessCentrality\",10)\n",
    "test_two"
   ]
  },
  {
   "attachments": {},
   "cell_type": "markdown",
   "id": "28b420f1",
   "metadata": {},
   "source": [
    "# Visualization 2  - Visualize centrality measure\n",
    "\n",
    "A table containing the information related to the requested centrality measure for:\n",
    "\n",
    "- The average of the requested centrality measure for all of the network's nodes\n",
    "\n",
    "- The requested centrality measure's value for the given node"
   ]
  },
  {
   "cell_type": "code",
   "execution_count": 366,
   "id": "e6921881",
   "metadata": {},
   "outputs": [],
   "source": [
    "metric_value,metric_value_node,mean_centrality=get_metric_value(G1, 'SPIDER-MAN/PETER PARKER',\"ClosenessCentrality\",1000)"
   ]
  },
  {
   "cell_type": "code",
   "execution_count": 369,
   "metadata": {},
   "outputs": [
    {
     "data": {
      "text/html": [
       "<div>\n",
       "<style scoped>\n",
       "    .dataframe tbody tr th:only-of-type {\n",
       "        vertical-align: middle;\n",
       "    }\n",
       "\n",
       "    .dataframe tbody tr th {\n",
       "        vertical-align: top;\n",
       "    }\n",
       "\n",
       "    .dataframe thead th {\n",
       "        text-align: right;\n",
       "    }\n",
       "</style>\n",
       "<table border=\"1\" class=\"dataframe\">\n",
       "  <thead>\n",
       "    <tr style=\"text-align: right;\">\n",
       "      <th></th>\n",
       "      <th></th>\n",
       "    </tr>\n",
       "    <tr>\n",
       "      <th>mean_centrality</th>\n",
       "      <th>metric_value_node</th>\n",
       "    </tr>\n",
       "  </thead>\n",
       "  <tbody>\n",
       "    <tr>\n",
       "      <th>0.526327</th>\n",
       "      <th>0.772549</th>\n",
       "    </tr>\n",
       "  </tbody>\n",
       "</table>\n",
       "</div>"
      ],
      "text/plain": [
       "Empty DataFrame\n",
       "Columns: []\n",
       "Index: [(0.5263272789492061, 0.7725490196078432)]"
      ]
     },
     "execution_count": 369,
     "metadata": {},
     "output_type": "execute_result"
    }
   ],
   "source": [
    "dataframe = pd.DataFrame([{'mean_centrality' : mean_centrality, \"metric_value_node\" :metric_value_node}])\n",
    "dataframe.set_index(['mean_centrality', \"metric_value_node\"]) "
   ]
  },
  {
   "attachments": {},
   "cell_type": "markdown",
   "id": "74497788",
   "metadata": {},
   "source": [
    "# Functionality 5: Extracting Communities.\n",
    "\n",
    "Input:\n",
    "- The graph data\n",
    "- N: denoting the top N heroes that their data should be considered\n",
    "- Hero_1: denoting the name of one of the heroes\n",
    "- Hero_2: denoting the name of one of the heroes\n",
    "\n",
    "Output:\n",
    "- The minimum number of edges that should be removed to form communities\n",
    "- A list of communities, each containing a list of heroes that belong to them.\n",
    "- If the Hero_1 and Hero_2 belongs to the same community\n",
    "\n",
    "Important Notes:\n",
    "\n",
    "This functionality should only be run on the first graph."
   ]
  },
  {
   "cell_type": "code",
   "execution_count": 35,
   "id": "b4f4c1d3",
   "metadata": {},
   "outputs": [
    {
     "data": {
      "text/plain": [
       "('LITTLE, ABNER', 'PRINCESS ZANDA')"
      ]
     },
     "execution_count": 35,
     "metadata": {},
     "output_type": "execute_result"
    }
   ],
   "source": [
    "'LITTLE, ABNER', 'PRINCESS ZANDA'"
   ]
  },
  {
   "cell_type": "code",
   "execution_count": null,
   "id": "2aff94b6",
   "metadata": {},
   "outputs": [],
   "source": []
  },
  {
   "cell_type": "code",
   "execution_count": 37,
   "id": "41521b1b",
   "metadata": {},
   "outputs": [],
   "source": [
    "from collections import defaultdict\n",
    "\n",
    "def extract_communities(graph, N, hero_1, hero_2):\n",
    "  # Create a dictionary to store the communities\n",
    "  communities = defaultdict(list)\n",
    "\n",
    "  # Keep track of the number of edges removed\n",
    "  num_edges_removed = 0\n",
    "\n",
    "  # Loop through the graph data and create the communities\n",
    "  for hero, connections in graph.items():\n",
    "    # If the hero is one of the top N heroes, add it to its own community\n",
    "    if hero in connections[:N]:\n",
    "      communities[hero].append(hero)\n",
    "    else:\n",
    "      # Otherwise, add the hero to the same community as one of its connections\n",
    "      # that is in the top N heroes\n",
    "      for connection in connections:\n",
    "        if connection in connections[:N]:\n",
    "          communities[connection].append(hero)\n",
    "          num_edges_removed += 1\n",
    "          break\n",
    "  \n",
    "  # Check if Hero 1 and Hero 2 belong to the same community\n",
    "  same_community = False\n",
    "  for community in communities.values():\n",
    "    if hero_1 in community and hero_2 in community:\n",
    "      same_community = True\n",
    "      break\n",
    "  \n",
    "  return num_edges_removed, communities, same_community"
   ]
  },
  {
   "cell_type": "code",
   "execution_count": null,
   "id": "86bbbedd",
   "metadata": {},
   "outputs": [],
   "source": []
  },
  {
   "cell_type": "code",
   "execution_count": 38,
   "id": "3c62fc50",
   "metadata": {},
   "outputs": [
    {
     "ename": "AttributeError",
     "evalue": "'Graph' object has no attribute 'items'",
     "output_type": "error",
     "traceback": [
      "\u001b[1;31m---------------------------------------------------------------------------\u001b[0m",
      "\u001b[1;31mAttributeError\u001b[0m                            Traceback (most recent call last)",
      "\u001b[1;32mc:\\Users\\ludom\\OneDrive\\Desktop\\ADM\\HOMEWORKS\\HW_5\\HW5_Ludo.ipynb Cell 48\u001b[0m in \u001b[0;36m<cell line: 1>\u001b[1;34m()\u001b[0m\n\u001b[1;32m----> <a href='vscode-notebook-cell:/c%3A/Users/ludom/OneDrive/Desktop/ADM/HOMEWORKS/HW_5/HW5_Ludo.ipynb#X65sZmlsZQ%3D%3D?line=0'>1</a>\u001b[0m extract_communities(G1, \u001b[39m10\u001b[39;49m, \u001b[39m'\u001b[39;49m\u001b[39mLITTLE, ABNER\u001b[39;49m\u001b[39m'\u001b[39;49m, \u001b[39m'\u001b[39;49m\u001b[39mPRINCESS ZANDA\u001b[39;49m\u001b[39m'\u001b[39;49m)\n",
      "\u001b[1;32mc:\\Users\\ludom\\OneDrive\\Desktop\\ADM\\HOMEWORKS\\HW_5\\HW5_Ludo.ipynb Cell 48\u001b[0m in \u001b[0;36mextract_communities\u001b[1;34m(graph, N, hero_1, hero_2)\u001b[0m\n\u001b[0;32m      <a href='vscode-notebook-cell:/c%3A/Users/ludom/OneDrive/Desktop/ADM/HOMEWORKS/HW_5/HW5_Ludo.ipynb#X65sZmlsZQ%3D%3D?line=7'>8</a>\u001b[0m num_edges_removed \u001b[39m=\u001b[39m \u001b[39m0\u001b[39m\n\u001b[0;32m     <a href='vscode-notebook-cell:/c%3A/Users/ludom/OneDrive/Desktop/ADM/HOMEWORKS/HW_5/HW5_Ludo.ipynb#X65sZmlsZQ%3D%3D?line=9'>10</a>\u001b[0m \u001b[39m# Loop through the graph data and create the communities\u001b[39;00m\n\u001b[1;32m---> <a href='vscode-notebook-cell:/c%3A/Users/ludom/OneDrive/Desktop/ADM/HOMEWORKS/HW_5/HW5_Ludo.ipynb#X65sZmlsZQ%3D%3D?line=10'>11</a>\u001b[0m \u001b[39mfor\u001b[39;00m hero, connections \u001b[39min\u001b[39;00m graph\u001b[39m.\u001b[39;49mitems():\n\u001b[0;32m     <a href='vscode-notebook-cell:/c%3A/Users/ludom/OneDrive/Desktop/ADM/HOMEWORKS/HW_5/HW5_Ludo.ipynb#X65sZmlsZQ%3D%3D?line=11'>12</a>\u001b[0m   \u001b[39m# If the hero is one of the top N heroes, add it to its own community\u001b[39;00m\n\u001b[0;32m     <a href='vscode-notebook-cell:/c%3A/Users/ludom/OneDrive/Desktop/ADM/HOMEWORKS/HW_5/HW5_Ludo.ipynb#X65sZmlsZQ%3D%3D?line=12'>13</a>\u001b[0m   \u001b[39mif\u001b[39;00m hero \u001b[39min\u001b[39;00m connections[:N]:\n\u001b[0;32m     <a href='vscode-notebook-cell:/c%3A/Users/ludom/OneDrive/Desktop/ADM/HOMEWORKS/HW_5/HW5_Ludo.ipynb#X65sZmlsZQ%3D%3D?line=13'>14</a>\u001b[0m     communities[hero]\u001b[39m.\u001b[39mappend(hero)\n",
      "\u001b[1;31mAttributeError\u001b[0m: 'Graph' object has no attribute 'items'"
     ]
    }
   ],
   "source": [
    "extract_communities(G1, 10, 'LITTLE, ABNER', 'PRINCESS ZANDA')"
   ]
  },
  {
   "cell_type": "code",
   "execution_count": null,
   "id": "6757d37b",
   "metadata": {},
   "outputs": [],
   "source": []
  }
 ],
 "metadata": {
  "kernelspec": {
   "display_name": "base",
   "language": "python",
   "name": "python3"
  },
  "language_info": {
   "codemirror_mode": {
    "name": "ipython",
    "version": 3
   },
   "file_extension": ".py",
   "mimetype": "text/x-python",
   "name": "python",
   "nbconvert_exporter": "python",
   "pygments_lexer": "ipython3",
   "version": "3.9.12"
  },
  "vscode": {
   "interpreter": {
    "hash": "424f9789b169ab43ab6be5498ab0dae1349460dea9a86bef33c1f870c7f15edf"
   }
  }
 },
 "nbformat": 4,
 "nbformat_minor": 5
}
