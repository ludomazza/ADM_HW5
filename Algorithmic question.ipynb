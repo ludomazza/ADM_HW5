{
 "cells": [
  {
   "cell_type": "markdown",
   "id": "02a7d5df",
   "metadata": {},
   "source": [
    "# 6. Algorithmic Question"
   ]
  },
  {
   "cell_type": "markdown",
   "id": "dcf953e9",
   "metadata": {},
   "source": [
    "Since in the exercise the input is a single string that shows the direction of the segment lines and contains only the characters R, L, U, and D, without two equal consecutive characters, we first want to create a function which returns a list with all the possible steps given the general directions in input (i.e. input='R', output=['R', 'RR']). We want a repetition of the same direction maximum equal to 2, since the grid of the mobile phone has dimension 3x3."
   ]
  },
  {
   "cell_type": "code",
   "execution_count": 18,
   "id": "0a538f0b",
   "metadata": {},
   "outputs": [],
   "source": [
    "from itertools import combinations\n",
    "\n",
    "def generate_double_letter_strings(string):\n",
    "    double_letter_strings = []\n",
    "    # We enerate all combinations of double letters of the same character\n",
    "    for char in string:\n",
    "        new_string = string.replace(char, char * 2)\n",
    "        if new_string not in double_letter_strings:\n",
    "            double_letter_strings.append(new_string)\n",
    "    # We generate all combinations of double letters of different characters\n",
    "    if len(set(string)) > 1:\n",
    "        for char_pair in combinations(set(string), 2):\n",
    "            new_string = string\n",
    "            for char in char_pair:\n",
    "                new_string = new_string.replace(char, char * 2)\n",
    "            if new_string not in double_letter_strings:\n",
    "                double_letter_strings.append(new_string)\n",
    "    # We add the original string if it is not already present\n",
    "    if string not in double_letter_strings:\n",
    "        double_letter_strings.append(string)\n",
    "    # In the end, we add a string with every letter present twice\n",
    "    if len(string)>=3:\n",
    "        w=''\n",
    "        for i in string:\n",
    "            w += i*2\n",
    "        double_letter_strings.append(w)\n",
    "\n",
    "    return double_letter_strings"
   ]
  },
  {
   "cell_type": "markdown",
   "id": "bd9151b4",
   "metadata": {},
   "source": [
    "Then, we proceed creating the main function, which returns the number of possible patterns, considering the directions in input as a one-step direction."
   ]
  },
  {
   "cell_type": "code",
   "execution_count": 19,
   "id": "ca2558d4",
   "metadata": {},
   "outputs": [],
   "source": [
    "def count_patterns(directions):\n",
    "    count = 0\n",
    "    # Starting positions in the grid\n",
    "    start = [(0,0), (0,1), (0,2), (1,0), (1,1), (1,2), (2,0), (2,1), (2,2)]    \n",
    "    # Iterate through the directions in the input string\n",
    "    for i in range(len(start)):\n",
    "        # Initialize a set to keep track of visited positions\n",
    "        visited = []\n",
    "        x=start[i][0]\n",
    "        y=start[i][1]\n",
    "        visited.append((x,y))\n",
    "        for direction in directions:\n",
    "            # Update the current position based on the direction\n",
    "            if direction == \"R\":\n",
    "                x += 1\n",
    "            elif direction == \"L\":\n",
    "                x -= 1\n",
    "            elif direction == \"U\":\n",
    "                y += 1\n",
    "            elif direction == \"D\":\n",
    "                y -= 1\n",
    "            # If the current position is not a valid position or has been visited before, stop processing this direction\n",
    "            if x < 0 or x > 2 or y < 0 or y > 2 or (x, y) in visited:\n",
    "                break\n",
    "            # Otherwise, add the current position to the set of visited positions\n",
    "            visited.append((x, y))\n",
    "            # If every direction was valid, we increment our counter\n",
    "            if len(visited) == (len(directions)+1):\n",
    "                count += 1\n",
    "                    \n",
    "    return count"
   ]
  },
  {
   "cell_type": "markdown",
   "id": "97bc381a",
   "metadata": {},
   "source": [
    "To conclude, therefore, we create a third function that takes as input the directions in the way the exercise requires, using the generate_double_letter_strings function puts in a list all possible combinations with one and two steps in the same direction, and, with a for loop, we iterate the list and pass each element of it to the count_patterns function, updating a counter that keeps track of the number of patterns for each set of directions. "
   ]
  },
  {
   "cell_type": "code",
   "execution_count": 24,
   "id": "66ce48e5",
   "metadata": {},
   "outputs": [],
   "source": [
    "def tot_count(string):\n",
    "    # We create a list of possible directions using the function created above\n",
    "    l=generate_double_letter_strings(string)\n",
    "    count=0\n",
    "    # We iterate through the list of directions and pass each element to the function count_patterns\n",
    "    for i in l:\n",
    "        count+=count_patterns(i)\n",
    "    return count"
   ]
  },
  {
   "cell_type": "code",
   "execution_count": 27,
   "id": "be4952f5",
   "metadata": {},
   "outputs": [
    {
     "data": {
      "text/plain": [
       "9"
      ]
     },
     "execution_count": 27,
     "metadata": {},
     "output_type": "execute_result"
    }
   ],
   "source": [
    "tot_count('R')"
   ]
  },
  {
   "cell_type": "code",
   "execution_count": 28,
   "id": "95046027",
   "metadata": {},
   "outputs": [
    {
     "data": {
      "text/plain": [
       "15"
      ]
     },
     "execution_count": 28,
     "metadata": {},
     "output_type": "execute_result"
    }
   ],
   "source": [
    "tot_count('DRU')"
   ]
  },
  {
   "cell_type": "code",
   "execution_count": 29,
   "id": "9d5804c2",
   "metadata": {},
   "outputs": [
    {
     "data": {
      "text/plain": [
       "0"
      ]
     },
     "execution_count": 29,
     "metadata": {},
     "output_type": "execute_result"
    }
   ],
   "source": [
    "tot_count('LDRDRUL')"
   ]
  }
 ],
 "metadata": {
  "kernelspec": {
   "display_name": "Python 3 (ipykernel)",
   "language": "python",
   "name": "python3"
  },
  "language_info": {
   "codemirror_mode": {
    "name": "ipython",
    "version": 3
   },
   "file_extension": ".py",
   "mimetype": "text/x-python",
   "name": "python",
   "nbconvert_exporter": "python",
   "pygments_lexer": "ipython3",
   "version": "3.8.13"
  }
 },
 "nbformat": 4,
 "nbformat_minor": 5
}
